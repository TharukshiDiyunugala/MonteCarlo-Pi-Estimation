{
 "cells": [
  {
   "cell_type": "code",
   "execution_count": null,
   "id": "f02f5959",
   "metadata": {},
   "outputs": [],
   "source": [
    "import pandas as pd\n",
    "import matplotlib.pyplot as plt\n",
    "import numpy as np\n",
    "\n",
    "# Load the data\n",
    "data = pd.read_csv('pi_accuracy_vs_time.csv')\n",
    "\n",
    "# X-axis labels: Total Points\n",
    "points = data['Total_Points']\n",
    "x = np.arange(len(points))  # the label locations\n",
    "\n",
    "width = 0.25  # width of the bars\n",
    "\n",
    "fig, ax = plt.subplots(figsize=(10,6))\n",
    "\n",
    "# Plot bars\n",
    "bar1 = ax.bar(x - width, data['Pi_Estimate'], width, label='Pi Estimate')\n",
    "bar2 = ax.bar(x, data['Error'], width, label='Error')\n",
    "bar3 = ax.bar(x + width, data['Execution_Time'], width, label='Execution Time (s)')\n",
    "\n",
    "# Labels and title\n",
    "ax.set_xlabel('Total Points')\n",
    "ax.set_ylabel('Value')\n",
    "ax.set_title('Pi Estimate, Error, and Execution Time vs Total Points')\n",
    "ax.set_xticks(x)\n",
    "ax.set_xticklabels(points)\n",
    "ax.legend()\n",
    "ax.grid(axis='y')\n",
    "\n",
    "plt.tight_layout()\n",
    "plt.show()\n"
   ]
  }
 ],
 "metadata": {
  "kernelspec": {
   "display_name": "Python 3",
   "language": "python",
   "name": "python3"
  },
  "language_info": {
   "name": "python",
   "version": "3.10.12"
  }
 },
 "nbformat": 4,
 "nbformat_minor": 5
}
